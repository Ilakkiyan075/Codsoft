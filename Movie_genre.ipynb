{
  "cells": [
    {
      "cell_type": "markdown",
      "metadata": {
        "id": "view-in-github",
        "colab_type": "text"
      },
      "source": [
        "<a href=\"https://colab.research.google.com/github/Ilakkiyan075/Codsoft/blob/main/Movie_genre.ipynb\" target=\"_parent\"><img src=\"https://colab.research.google.com/assets/colab-badge.svg\" alt=\"Open In Colab\"/></a>"
      ]
    },
    {
      "cell_type": "code",
      "execution_count": null,
      "metadata": {
        "colab": {
          "background_save": true,
          "base_uri": "https://localhost:8080/",
          "height": 511
        },
        "id": "XahDqcZ-1FFp",
        "outputId": "d22710d9-a260-42d4-9cea-b7d30e588e24"
      },
      "outputs": [
        {
          "name": "stderr",
          "output_type": "stream",
          "text": [
            "Loading Train Data: 100%|██████████| 50/50 [00:00<00:00, 1072.99it/s]\n",
            "Vectorizing Training Data: 100%|██████████| 50/50 [00:00<00:00, 59.58it/s]\n",
            "Training Model: 100%|██████████| 50/50 [00:00<00:00, 207.33it/s]\n",
            "Loading Test Data: 100%|██████████| 50/50 [00:00<00:00, 2105.76it/s]\n",
            "Vectorizing Test Data: 100%|██████████| 50/50 [00:00<00:00, 175.50it/s]\n",
            "Predicting on Test Data: 100%|██████████| 50/50 [00:00<00:00, 1283.90it/s]\n"
          ]
        },
        {
          "name": "stdout",
          "output_type": "stream",
          "text": [
            "Model evaluation results and metrics have been saved to 'model_evaluation.txt'.\n"
          ]
        }
      ],
      "source": [
        "import pandas as pd\n",
        "import numpy as np\n",
        "from sklearn.feature_extraction.text import TfidfVectorizer\n",
        "from sklearn.multioutput import MultiOutputClassifier\n",
        "from sklearn.naive_bayes import MultinomialNB\n",
        "from sklearn.preprocessing import MultiLabelBinarizer\n",
        "from sklearn.metrics import accuracy_score, precision_score, recall_score, f1_score\n",
        "from tqdm import tqdm\n",
        "genre_list = [ 'action', 'adult', 'adventure', 'animation', 'biography', 'comedy', 'crime', 'documentary', 'family', 'fantasy', 'game-show', 'history', 'horror', 'music', 'musical', 'mystery', 'news', 'reality-tv', 'romance', 'sci-fi', 'short', 'sport', 'talk-show', 'thriller', 'war', 'western' ]\n",
        "fallback_genre = 'Unknown'\n",
        "try:\n",
        "    with tqdm(total=50, desc=\"Loading Train Data\") as pbar:\n",
        "        train_data = pd.read_csv('train_data.txt', sep=':::', header=None, names=['SerialNumber', 'MOVIE_NAME', 'GENRE', 'MOVIE_PLOT'], engine='python')\n",
        "        pbar.update(50)\n",
        "except Exception as e:\n",
        "    print(f\"Error loading train_data: {e}\")\n",
        "    raise\n",
        "X_train = train_data['MOVIE_PLOT'].astype(str).apply(lambda doc: doc.lower())\n",
        "genre_labels = [genre.split(', ') for genre in train_data['GENRE']]\n",
        "mlb = MultiLabelBinarizer()\n",
        "y_train = mlb.fit_transform(genre_labels)\n",
        "tfidf_vectorizer = TfidfVectorizer(max_features=5000)\n",
        "with tqdm(total=50, desc=\"Vectorizing Training Data\") as pbar:\n",
        "    X_train_tfidf = tfidf_vectorizer.fit_transform(X_train)\n",
        "    pbar.update(50)\n",
        "with tqdm(total=50, desc=\"Training Model\") as pbar:\n",
        "    naive_bayes = MultinomialNB()\n",
        "    multi_output_classifier = MultiOutputClassifier(naive_bayes)\n",
        "    multi_output_classifier.fit(X_train_tfidf, y_train)\n",
        "    pbar.update(50)\n",
        "try:\n",
        "    with tqdm(total=50, desc=\"Loading Test Data\") as pbar:\n",
        "        test_data = pd.read_csv('test_data.txt', sep=':::', header=None, names=['SerialNumber', 'MOVIE_NAME', 'MOVIE_PLOT'], engine='python')\n",
        "        pbar.update(50)\n",
        "except Exception as e:\n",
        "    print(f\"Error loading test_data: {e}\")\n",
        "    raise\n",
        "X_test = test_data['MOVIE_PLOT'].astype(str).apply(lambda doc: doc.lower())\n",
        "\n",
        "with tqdm(total=50, desc=\"Vectorizing Test Data\") as pbar:\n",
        "    X_test_tfidf = tfidf_vectorizer.transform(X_test)\n",
        "    pbar.update(50)\n",
        "with tqdm(total=50, desc=\"Predicting on Test Data\") as pbar:\n",
        "    y_pred = multi_output_classifier.predict(X_test_tfidf)\n",
        "    pbar.update(50)\n",
        "test_movie_names = test_data['MOVIE_NAME']\n",
        "predicted_genres = mlb.inverse_transform(y_pred)\n",
        "test_results = pd.DataFrame({'MOVIE_NAME': test_movie_names, 'PREDICTED_GENRES': predicted_genres})\n",
        "test_results['PREDICTED_GENRES'] = test_results['PREDICTED_GENRES'].apply(lambda genres: [fallback_genre] if len(genres) == 0 else genres)\n",
        "with open(\"model_evaluation.txt\", \"w\", encoding=\"utf-8\") as output_file:\n",
        "    for _, row in test_results.iterrows():\n",
        "        movie_name = row['MOVIE_NAME']\n",
        "        genre_str = ', '.join(row['PREDICTED_GENRES'])\n",
        "        output_file.write(f\"{movie_name} ::: {genre_str}\\n\")\n",
        "y_train_pred = multi_output_classifier.predict(X_train_tfidf)\n",
        "accuracy = accuracy_score(y_train, y_train_pred)\n",
        "precision = precision_score(y_train, y_train_pred, average='micro')\n",
        "recall = recall_score(y_train, y_train_pred, average='micro')\n",
        "f1 = f1_score(y_train, y_train_pred, average='micro')\n",
        "with open(\"model_evaluation.txt\", \"a\", encoding=\"utf-8\") as output_file:\n",
        "    output_file.write(\"\\n\\nModel Evaluation Metrics:\\n\")\n",
        "    output_file.write(f\"Accuracy: {accuracy * 100:.2f}%\\n\")\n",
        "    output_file.write(f\"Precision: {precision:.2f}\\n\")\n",
        "    output_file.write(f\"Recall: {recall:.2f}\\n\")\n",
        "    output_file.write(f\"F1-score: {f1:.2f}\\n\")\n",
        "\n",
        "\n",
        "print(\"Model evaluation results and metrics have been saved to 'model_evaluation.txt'.\")"
      ]
    }
  ],
  "metadata": {
    "colab": {
      "provenance": [],
      "authorship_tag": "ABX9TyNW2QOjW4XO50QywSn/c6qI",
      "include_colab_link": true
    },
    "kernelspec": {
      "display_name": "Python 3",
      "name": "python3"
    },
    "language_info": {
      "name": "python"
    }
  },
  "nbformat": 4,
  "nbformat_minor": 0
}